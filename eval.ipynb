{
 "cells": [
  {
   "cell_type": "code",
   "execution_count": 1,
   "metadata": {},
   "outputs": [],
   "source": [
    "import csv\n",
    "import numpy as np\n",
    "import matplotlib.pyplot as plt"
   ]
  },
  {
   "cell_type": "code",
   "execution_count": 2,
   "metadata": {},
   "outputs": [
    {
     "name": "stdout",
     "output_type": "stream",
     "text": [
      "200000\n"
     ]
    }
   ],
   "source": [
    "ch_visited = []\n",
    "ch_relaxed = []\n",
    "ch_time = []\n",
    "chase_visited = []\n",
    "chase_relaxed = []\n",
    "chase_time = []\n",
    "skeleton_chase_visited = []\n",
    "skeleton_chase_relaxed = []\n",
    "skeleton_chase_time = []\n",
    "length = []\n",
    "edges = []\n",
    "\n",
    "with open('logs/log_29-07-2022 13-52-39.txt', newline='') as csvfile:\n",
    "    reader = csv.reader(csvfile, delimiter=',')\n",
    "    for row in reader:\n",
    "        if int(row[0]) == 1:\n",
    "            length.append(int(row[1]))\n",
    "            ch_relaxed.append(int(row[4]))\n",
    "            chase_relaxed.append(int(row[5]))\n",
    "            skeleton_chase_relaxed.append(int(row[6]))\n",
    "            ch_visited.append(int(row[7]))\n",
    "            chase_visited.append(int(row[8]))\n",
    "            skeleton_chase_visited.append(int(row[9]))\n",
    "            ch_time.append(float(row[10]))\n",
    "            chase_time.append(float(row[11]))\n",
    "            skeleton_chase_time.append(float(row[12]))\n",
    "            edges.append(int(row[13]))\n",
    "print(len(length))"
   ]
  },
  {
   "cell_type": "code",
   "execution_count": 3,
   "metadata": {},
   "outputs": [
    {
     "name": "stdout",
     "output_type": "stream",
     "text": [
      "75452.561335\n"
     ]
    }
   ],
   "source": [
    "v_ch = np.mean(ch_visited)\n",
    "v_chase = np.mean(chase_visited)\n",
    "v_skeleton_chase = np.mean(skeleton_chase_visited)\n",
    "r_ch = np.mean(ch_relaxed)\n",
    "r_chase = np.mean(chase_relaxed)\n",
    "r_skeleton_chase = np.mean(skeleton_chase_relaxed)\n",
    "t_ch = np.mean(ch_time)\n",
    "t_chase = np.mean(chase_time)\n",
    "t_skeleton_chase = np.mean(skeleton_chase_time)\n",
    "print(t_skeleton_chase)"
   ]
  },
  {
   "cell_type": "code",
   "execution_count": 4,
   "metadata": {},
   "outputs": [
    {
     "name": "stdout",
     "output_type": "stream",
     "text": [
      "200000 runs: avg path time (ms) = 7044203.44524, avg path edges: 13.25201\n",
      "skeleton chase: 105.03574 edges visited, 23.82451 edges relaxed on avg. (-2.95%) (-2.39%)\n",
      "         chase: 108.223715 edges visited, 24.408605 edges relaxed on avg. (-84.52%) (-87.32%)\n",
      "            ch: 699.142365 edges visited, 192.518105 edge relaxed on avg.\n"
     ]
    },
    {
     "data": {
      "image/png": "[encoded data removed]",
      "text/plain": [
       "<Figure size 432x288 with 1 Axes>"
      ]
     },
     "metadata": {
      "needs_background": "light"
     },
     "output_type": "display_data"
    }
   ],
   "source": [
    "barWidth = 0.3\n",
    "\n",
    "bars1 = [v_ch, v_chase, v_skeleton_chase]\n",
    "bars2 = [r_ch, r_chase, r_skeleton_chase]\n",
    " \n",
    "# The x position of bars\n",
    "r1 = np.arange(len(bars1))\n",
    "r2 = [x + barWidth for x in r1]\n",
    "r3 = [x + barWidth for x in r2]\n",
    " \n",
    "# Create blue bars\n",
    "plt.bar(r1, bars1, width = barWidth, color = 'blue', edgecolor = 'black', capsize=7, label='visited')\n",
    " \n",
    "# Create cyan bars\n",
    "plt.bar(r2, bars2, width = barWidth, color = 'orange', edgecolor = 'black', capsize=7, label='relaxed')\n",
    "\n",
    " \n",
    "# general layout\n",
    "plt.xticks([r + barWidth for r in range(len(bars1))], ['CH', 'CHASE', \"SKARF-CHASE\"])\n",
    "plt.ylabel('edges')\n",
    "plt.legend()\n",
    " \n",
    "# Show graphic\n",
    "print(len(length), \"runs:\", \"avg path time (ms) =\", f'{np.mean(length)},', \"avg path edges:\", np.mean(edges))\n",
    "print(\"skeleton chase:\", v_skeleton_chase, \"edges visited,\", r_skeleton_chase, \"edges relaxed on avg.\", f'(-{round(100-(v_skeleton_chase/v_chase)*100, 2)}%)', f'(-{round(100-(r_skeleton_chase/r_chase)*100, 2)}%)')\n",
    "print(\"         chase:\", v_chase, \"edges visited,\", r_chase, \"edges relaxed on avg.\", f'(-{round(100-(v_chase/v_ch)*100, 2)}%)', f'(-{round(100-(r_chase/r_ch)*100, 2)}%)')\n",
    "print(\"            ch:\", v_ch, \"edges visited,\", r_ch, \"edge relaxed on avg.\")\n",
    "plt.show()"
   ]
  },
  {
   "cell_type": "code",
   "execution_count": 5,
   "metadata": {},
   "outputs": [
    {
     "name": "stdout",
     "output_type": "stream",
     "text": [
      "200000 runs: avg path time (ms) = 7044203.44524\n"
     ]
    },
    {
     "data": {
      "image/png": "[encoded data removed]",
      "text/plain": [
       "<Figure size 432x288 with 1 Axes>"
      ]
     },
     "metadata": {
      "needs_background": "light"
     },
     "output_type": "display_data"
    }
   ],
   "source": [
    "barWidth = 0.3\n",
    "\n",
    "bars1 = [t_ch, t_chase, t_skeleton_chase]\n",
    " \n",
    "# The x position of bars\n",
    "r1 = np.arange(len(bars1))\n",
    " \n",
    "# Create blue bars\n",
    "plt.bar(r1, bars1, width = barWidth, color = 'blue', edgecolor = 'black', capsize=7)\n",
    " \n",
    "plt.xticks([r for r in range(len(bars1))], ['CH', 'CHASE', 'SKARF-CHASE'])\n",
    "plt.ylabel('time in (ns)')\n",
    " \n",
    "# Show graphic\n",
    "print(len(length), \"runs:\", \"avg path time (ms) =\", np.mean(length))\n",
    "plt.show()"
   ]
  }
 ],
 "metadata": {
  "kernelspec": {
   "display_name": "Python 3.8.10 64-bit",
   "language": "python",
   "name": "python3"
  },
  "language_info": {
   "codemirror_mode": {
    "name": "ipython",
    "version": 3
   },
   "file_extension": ".py",
   "mimetype": "text/x-python",
   "name": "python",
   "nbconvert_exporter": "python",
   "pygments_lexer": "ipython3",
   "version": "3.8.10"
  },
  "orig_nbformat": 4,
  "vscode": {
   "interpreter": {
    "hash": "916dbcbb3f70747c44a77c7bcd40155683ae19c65e1c03b4aa3499c5328201f1"
   }
  }
 },
 "nbformat": 4,
 "nbformat_minor": 2
}
